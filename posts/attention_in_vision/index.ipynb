{
 "cells": [
  {
   "cell_type": "raw",
   "id": "13eb683f",
   "metadata": {
    "vscode": {
     "languageId": "raw"
    }
   },
   "source": [
    "---\n",
    "title: Unpacking Attention & Transformers in Vision - From Theory to Implementation \n",
    "author: Sehajdeep Singh\n",
    "date: 2024-04-06\n",
    "description: Attention in Vision explained.\n",
    "categories: [AI,Attention,Transformers,Vision,pytorch,jupyter,code]\n",
    "---"
   ]
  },
  {
   "cell_type": "markdown",
   "id": "0ac2777e-3eaf-49d2-acdb-896065e98aa5",
   "metadata": {
    "tags": []
   },
   "source": [
    "# Unpacking Attention & Transformers in Vision: From Theory to Implementation"
   ]
  },
  {
   "cell_type": "markdown",
   "id": "c77f7ae1-7b63-48a8-ab54-aed6e5d6d972",
   "metadata": {},
   "source": [
    "Attention is the driving force behind the latest AI breakthroughs, pushing the boundaries of what's possible in artificial intelligence. From ChatGPT to the feats of Stable diffusion, attention is the secret sauce behind these cutting-edge models. Today, we're diving headfirst into the world of attention as used in vision. We'll break down how it works, demystifying the 'aha' moment when machines learn to focus on what truly matters. Attention has been the peice which has accelerated the AI world in the recent past.We will understand each step of attention, draw out to get intuition of how it is possible to \"attend\" using the attention mechanism, write our attention blocks from scratch. Then we will move onto the Transformer architecture for Vision and implement the Vision Transformer (ViT). We will start with the naive application of self-attention to images that requires each pixel attends to every other pixel, then move onto Multi-head attention, and then finally go onto techniques like patching the input image as sequence when we move onto the ViT architecture."
   ]
  },
  {
   "cell_type": "markdown",
   "id": "0ea91aa3-d399-4b56-bca4-c8869cf86fe7",
   "metadata": {
    "tags": []
   },
   "source": [
    "## Naive Self-attention"
   ]
  },
  {
   "cell_type": "markdown",
   "id": "558def5b-5cae-4758-9f7d-ac2db667fbe1",
   "metadata": {},
   "source": [
    "Let's say we have a cat image that is of shape = (height,width,channels). Now wouldn't it be handy if each pixel(or few pixels and/or channels together) knew about what the other part of the image looks like. If a model is working with a cat image, and if the pixels around the ear had some information or context about how the pixels at the other parts of the image are, its job would be much easier. When we apply convolutions with kernels across images to find out the activations, this information is not captured and only the local neighbouring values are learnt to create a local activation for one small part of the image. Even with the CNN receptive field this information gets faded as the network gets deeper. With attention what we are trying to do is have the weighted average of all the pixels and each pixel value is updated to be the original value and this learned weighted average of all the other pixels at different parts of the image. Naive application of self-attention to images would require that each pixel attends to every other\n",
    "pixel.The standard Transformer receives as input a 1D sequence of token embeddings. We flatten out our input image into (h x w, channels) dimensions. In the cells below we create an input with batch size 64, 32 channels and 16X16 pixels map and reshape it to be (n_batch, h x w, channels)"
   ]
  },
  {
   "cell_type": "markdown",
   "id": "ae8e1e7c-3865-4de5-8437-b673ce9881ed",
   "metadata": {},
   "source": [
    "<img src=\"flatten.PNG\" alt=\"Alternative text\"  width=\"700\" height=\"400\"/>"
   ]
  },
  {
   "cell_type": "code",
   "execution_count": 1,
   "id": "8f925e9c-85b5-4cfc-a080-f7d50ce3f0f8",
   "metadata": {},
   "outputs": [],
   "source": [
    "!pip install -Uqq git+https://github.com/fastai/course22p2"
   ]
  },
  {
   "cell_type": "code",
   "execution_count": 2,
   "id": "cc4e3941-3f20-4d9e-88df-7581b5241a26",
   "metadata": {},
   "outputs": [],
   "source": [
    "%%capture\n",
    "!pip install accelerate"
   ]
  },
  {
   "cell_type": "code",
   "execution_count": 3,
   "id": "f797696c-16fb-4141-b3fa-8f7a67b8ac4a",
   "metadata": {},
   "outputs": [],
   "source": [
    "import math,torch\n",
    "from torch import nn\n",
    "from miniai.activations import *\n",
    "from torch import Tensor\n",
    "from einops.layers.torch import Rearrange\n",
    "import torch\n",
    "from torchvision.datasets import OxfordIIITPet\n",
    "import matplotlib.pyplot as plt\n",
    "from random import random\n",
    "from torchvision.transforms import Resize, ToTensor\n",
    "from torchvision.transforms.functional import to_pil_image"
   ]
  },
  {
   "cell_type": "code",
   "execution_count": 4,
   "id": "50dc1bbb-6c2c-40f9-9563-e895da5e66ae",
   "metadata": {},
   "outputs": [],
   "source": [
    "import matplotlib.pyplot as plt"
   ]
  },
  {
   "cell_type": "code",
   "execution_count": 5,
   "id": "13796b1b-55e5-4be8-901e-2871938e942f",
   "metadata": {},
   "outputs": [],
   "source": [
    "set_seed(42)\n",
    "x = torch.randn(64,32,16,16)"
   ]
  },
  {
   "cell_type": "code",
   "execution_count": 6,
   "id": "2a0219ce-48ce-4d0f-af84-52f4845a4463",
   "metadata": {},
   "outputs": [
    {
     "data": {
      "text/plain": [
       "torch.Size([64, 256, 32])"
      ]
     },
     "execution_count": 6,
     "metadata": {},
     "output_type": "execute_result"
    }
   ],
   "source": [
    "t = x.view(*x.shape[:2], -1).transpose(1, 2)\n",
    "t.shape"
   ]
  },
  {
   "cell_type": "markdown",
   "id": "c109dc2e-23e3-467b-bb91-46fae727c228",
   "metadata": {
    "tags": []
   },
   "source": [
    "### Debunking the \"q\",\"k\",\"v\" projections."
   ]
  },
  {
   "cell_type": "markdown",
   "id": "385cd648-85a4-4a4f-b2ec-c94e72c5be21",
   "metadata": {},
   "source": [
    "In the original \"Attention is all you need\" paper it is quoted as \"an attention function can be described as mapping a query and a set of key-value pairs to an output,\n",
    "where the query, keys, values, and output are all vectors\". Describing it in terms of query and key-value pairs instantly makes me think of a mapping function between known vectors which is not true, as these vectors are initialised and learnt over time. Therefore, another term that is more intuitive for me to associate with q,k and v are projections. Each of the q,k and v are different projections of the input. Let's see how these projections are created.\n",
    "We create 3 linear transformations with nn.Linear where in_features, out_features equal to the number of channels. The weight matrices of these 3 different transformations will be initialised randomly, and these weights(which are learnable parameters of nn.Linear) will be matrix multiplied by input which will give us the 3 different projections of the input."
   ]
  },
  {
   "cell_type": "code",
   "execution_count": 7,
   "id": "09332f33-7ec2-49e6-84dc-8a8fc36c73a6",
   "metadata": {},
   "outputs": [],
   "source": [
    "ni = 32\n",
    "sk = nn.Linear(ni, ni)\n",
    "sq = nn.Linear(ni, ni)\n",
    "sv = nn.Linear(ni, ni)"
   ]
  },
  {
   "cell_type": "code",
   "execution_count": 8,
   "id": "42d87cbf-2534-4eff-97b8-4697b56d48b6",
   "metadata": {},
   "outputs": [
    {
     "data": {
      "text/plain": [
       "(torch.Size([64, 256, 32]),\n",
       " torch.Size([64, 256, 32]),\n",
       " torch.Size([64, 256, 32]))"
      ]
     },
     "execution_count": 8,
     "metadata": {},
     "output_type": "execute_result"
    }
   ],
   "source": [
    "k = sk(t)\n",
    "q = sq(t)\n",
    "v = sv(t)\n",
    "k.shape,q.shape,v.shape"
   ]
  },
  {
   "cell_type": "markdown",
   "id": "2fd59ea0-ba08-4192-9e85-2ac9bdf8e2fd",
   "metadata": {},
   "source": [
    "Let's get into the details and visualise these Linear Transformation.\n",
    "The shapes of the various components are\n",
    "inp,t = [64,256,32]\n",
    "Linear layer,l = (in_features=32,out_features=32,b=True).\n",
    "So the weight matrix 'w' of the Linear layer nn.Linear is [32,32] matrix.\n",
    "out,(k,q,v) = [64,256,32]"
   ]
  },
  {
   "cell_type": "markdown",
   "id": "9bb4114b-6233-4e9d-9a29-eda94b18aef2",
   "metadata": {},
   "source": [
    "<img src=\"linear_transform.png\" alt=\"Alternative text\"  width=\"700\" height=\"400\"/>"
   ]
  },
  {
   "cell_type": "markdown",
   "id": "72111dda-03b4-4839-a391-cfba4d7de3db",
   "metadata": {},
   "source": [
    "Next step is to take the dot product of the q and k projections. These projections (q,k) have value of each pixel across all the channels(32). So if we take the dot product of each pixel value across all channes with another pixel value across all channels, we will get the relationship between those 2 pixels(and eventually all of the pixels in the grid) or we will get to know how similar those pixels are. Let's visualise this for better understanding."
   ]
  },
  {
   "cell_type": "markdown",
   "id": "b3a971fd-6de9-4cf4-b7cb-1e1cf6f8df80",
   "metadata": {},
   "source": [
    "<img src=\"qk.PNG\" alt=\"Alternative text\"  width=\"700\" height=\"400\"/>"
   ]
  },
  {
   "cell_type": "markdown",
   "id": "3dd7fa8e-55fe-4bfb-8c96-fac239433e8e",
   "metadata": {},
   "source": [
    "We do the matrix product of q with the transpose of k. We see that as we fill up the resultant 256X256 matrix, we get the relationship or similarity between each of the pixels. If we look at the first row of q and first column of k.T (selected in red color) the first pixel across channels of q projection is multiplied with first pixel across channels of k projection to fill out \"a\" in the resultant matrix. Similarily, as we continue the dot product we get the similarity(or relationships) between all the pixels . Let's fill out some values in the result matrix and see what is it actually doing.\n",
    "So to get a,b,c,d we do the dot product of\n",
    "\n",
    "<ul>\n",
    "  <li>a - 1st pixel all channels (q) X 1st pixel all channles(k)</li>\n",
    "  <li>b - 1st pixel all channels(q) X 2nd pixel all channles(k)</li>\n",
    "  <li>d - 2nd pixel all channels(q) X 1st pixel all channles(k)</li>\n",
    "</ul>\n",
    "\n",
    "Let's go ahead and do the q@k.T"
   ]
  },
  {
   "cell_type": "code",
   "execution_count": 9,
   "id": "fdb3367c-a2f7-483d-9a34-1dc8b27970f2",
   "metadata": {},
   "outputs": [
    {
     "data": {
      "text/plain": [
       "torch.Size([64, 256, 256])"
      ]
     },
     "execution_count": 9,
     "metadata": {},
     "output_type": "execute_result"
    }
   ],
   "source": [
    "s = (q@k.transpose(1,2))\n",
    "s.shape"
   ]
  },
  {
   "cell_type": "markdown",
   "id": "c5b601f8-33f1-4d08-a0a7-85057b935bbc",
   "metadata": {},
   "source": [
    "Now, we will take this result \"s\" and do the matrix product with the v projection and the final output of the self attention block is the original input plus all the transformations we have done using q,k,v and other projections."
   ]
  },
  {
   "cell_type": "code",
   "execution_count": 10,
   "id": "f635e8e8-45e7-4a76-93cb-2f4d5d21fd9c",
   "metadata": {},
   "outputs": [],
   "source": [
    "res = s.softmax(dim=-1)@v"
   ]
  },
  {
   "cell_type": "markdown",
   "id": "107a1cf6-adb2-4892-919b-b607cc9b4b80",
   "metadata": {},
   "source": [
    "We take the softmax across each row so that the sum of each row of \"s\" is 1 and we have a weight for each pixel."
   ]
  },
  {
   "cell_type": "code",
   "execution_count": 11,
   "id": "c01a159d-e42e-41f5-a139-8b4622fedf24",
   "metadata": {},
   "outputs": [
    {
     "data": {
      "text/plain": [
       "torch.Size([64, 256, 32])"
      ]
     },
     "execution_count": 11,
     "metadata": {},
     "output_type": "execute_result"
    }
   ],
   "source": [
    "res.shape"
   ]
  },
  {
   "cell_type": "markdown",
   "id": "83046e88-9e74-43fb-ad55-21b2b37fb3b3",
   "metadata": {},
   "source": [
    "So now let's write our own Self Attention class"
   ]
  },
  {
   "cell_type": "code",
   "execution_count": 12,
   "id": "d56c1263-ecc4-4d5d-af08-a86fc42a93fd",
   "metadata": {},
   "outputs": [],
   "source": [
    "class SelfAttention(nn.Module):\n",
    "    def __init__(self, ni):\n",
    "        super().__init__()\n",
    "        self.scale = math.sqrt(ni)\n",
    "        self.norm = nn.GroupNorm(1, ni)\n",
    "        self.q = nn.Linear(ni, ni)\n",
    "        self.k = nn.Linear(ni, ni)\n",
    "        self.v = nn.Linear(ni, ni)\n",
    "        self.proj = nn.Linear(ni, ni)\n",
    "    \n",
    "    def forward(self, x):\n",
    "        inp = x\n",
    "        n,c,h,w = x.shape\n",
    "        x = self.norm(x)\n",
    "        x = x.view(n, c, -1).transpose(1, 2)\n",
    "        q = self.q(x)\n",
    "        k = self.k(x)\n",
    "        v = self.v(x)\n",
    "        s = (q@k.transpose(1,2))/self.scale\n",
    "        x = s.softmax(dim=-1)@v\n",
    "        x = self.proj(x)\n",
    "        x = x.transpose(1,2).reshape(n,c,h,w)\n",
    "        return x+inp"
   ]
  },
  {
   "cell_type": "code",
   "execution_count": 13,
   "id": "4a82fd02-6755-4206-9487-8f702f68dae4",
   "metadata": {},
   "outputs": [
    {
     "data": {
      "text/plain": [
       "torch.Size([64, 32, 16, 16])"
      ]
     },
     "execution_count": 13,
     "metadata": {},
     "output_type": "execute_result"
    }
   ],
   "source": [
    "sa = SelfAttention(32)\n",
    "ra = sa(x)\n",
    "ra.shape"
   ]
  },
  {
   "cell_type": "markdown",
   "id": "d2e65c98-ef5f-4e1c-b9eb-ec98ea7bcf7d",
   "metadata": {
    "tags": []
   },
   "source": [
    "## MultiHead Self-Attention"
   ]
  },
  {
   "cell_type": "markdown",
   "id": "87fea2ba-61b6-4676-9383-5ec2d579d09f",
   "metadata": {},
   "source": [
    "Naive application of self-attention to images would require that each pixel attends to every other pixel. With quadratic cost in the number of pixels, this does not scale to realistic input sizes. So one method which is very intuitive is to group some channels together from different parts of the image. These groups of channels are called \"heads\". Now each head would have few channels grouped together and these heads will carry information about different aspects of the image depending on what the channels in a particular group(or head) capture. For understanding purposes , we can assume one head has capured part of the image which has information about the temperature(brightness) of the image, another head has information about the regions that correspond to cat features like ears, eyes, nose, or tail and so on.\n",
    "<ul>\n",
    " <li>As compared to our naive self attention, we do the dot product between these heads or groups of channels</li>\n",
    " <li>As we use softmax to sum a row and get weight for each pixel, if we just use pixel self attention, the attention might be biased to just one large value as the softmax of that large value would be enormous compared to   other values ( as e^x would amplify that particular value). So grouping channels together eliminates this bias.</li>\n",
    "</ul>\n",
    "\n",
    "\n",
    "As seen below, rather than doing attention on each pixel across each channel as we did in the naive self attention, we are doing attention on these heads which contain different channels grouped together. We group the channels together and carry out attention calculations."
   ]
  },
  {
   "cell_type": "markdown",
   "id": "fac3ca70-f3a0-4350-a4a4-50ec8e4af3ef",
   "metadata": {},
   "source": [
    "<img src=\"multihead.PNG\" alt=\"Alternative text\"  width=\"700\" height=\"400\"/>"
   ]
  },
  {
   "cell_type": "markdown",
   "id": "23cb666f-0a21-4b4d-85f0-9a13a1f4db54",
   "metadata": {},
   "source": [
    "Now these heads carry different information about different parts of the image and attend to each other.\n",
    "Let's see how to translate this in code.\n",
    "The main difference from our naive self attention is the rearrangement of the input dimensions."
   ]
  },
  {
   "cell_type": "code",
   "execution_count": 14,
   "id": "85dfd4b6-b3fa-4857-a2c9-3f351ab089bd",
   "metadata": {},
   "outputs": [],
   "source": [
    "from einops import rearrange"
   ]
  },
  {
   "cell_type": "code",
   "execution_count": 15,
   "id": "d3b03a5d-c5c5-4af6-a4ee-07f6665ee1d7",
   "metadata": {},
   "outputs": [],
   "source": [
    "class SelfAttentionMultiHead(nn.Module):\n",
    "    def __init__(self, ni, nheads):\n",
    "        super().__init__()\n",
    "        self.nheads = nheads\n",
    "        self.scale = math.sqrt(ni/nheads)\n",
    "        self.norm = nn.BatchNorm2d(ni)\n",
    "        self.qkv = nn.Linear(ni, ni*3)\n",
    "        self.proj = nn.Linear(ni, ni)\n",
    "    \n",
    "    def forward(self, inp):\n",
    "        n,c,h,w = inp.shape\n",
    "        x = self.norm(inp).view(n, c, -1).transpose(1, 2)\n",
    "        x = self.qkv(x)\n",
    "        x = rearrange(x, 'n s (h d) -> (n h) s d', h=self.nheads)\n",
    "        q,k,v = torch.chunk(x, 3, dim=-1)\n",
    "        s = (q@k.transpose(1,2))/self.scale\n",
    "        x = s.softmax(dim=-1)@v\n",
    "        x = rearrange(x, '(n h) s d -> n s (h d)', h=self.nheads)\n",
    "        x = self.proj(x).transpose(1,2).reshape(n,c,h,w)\n",
    "        return x+inp"
   ]
  },
  {
   "cell_type": "markdown",
   "id": "d4b22e0c-b130-4c34-a59b-3c2c55e6f6ca",
   "metadata": {},
   "source": [
    "Let's break down the part which is different from the naive Self Attention which is the rearrangement of the dimensions.To understand how it works, let's try to have h=8(heads) for our multi-head attention. As our images are 32 channels, each head will have d=4(channels/head). \n",
    "<ul>\n",
    " <li>Now we rearrange the images of dimensions [64,256,32] or [n,s,c] into [(n h), s, d] or [512,256,4].</li>\n",
    " <li>What we did here was to have the 32 channels break down into 8 groups of 4. </li>\n",
    " <li>Rather than having 64 images in each batch of 256 pixels and 32 channels, we have 512 images per batch of 256 pixels and 4 channels.</li>\n",
    " <li>Now we decreased the number of channels for each image to 4 but we created 8 times more images in each batch.</li>\n",
    " <li>We want each of the head(groups of channels) we created to be independent and have nothing to do with each other. So now as we turn one entire image of 32 channels into 8 images of 4 channels, they are completely independent  and have nothing to do with each other as they are seperate images now.</li>\n",
    " <li>Each of the head which has captured different set of information(channels) of the image is now independent ofhe other heads created.</li>\n",
    "</ul>"
   ]
  },
  {
   "cell_type": "code",
   "execution_count": 21,
   "id": "5a9497b9-e256-4684-ae02-f5e9bd49cbc4",
   "metadata": {},
   "outputs": [
    {
     "data": {
      "text/plain": [
       "torch.Size([64, 256, 32])"
      ]
     },
     "execution_count": 21,
     "metadata": {},
     "output_type": "execute_result"
    }
   ],
   "source": [
    "t = x.view(*x.shape[:2], -1).transpose(1, 2)\n",
    "t.shape"
   ]
  },
  {
   "cell_type": "code",
   "execution_count": 17,
   "id": "08b27e4f-1e3f-47ef-a6fe-d8fa4fa37f39",
   "metadata": {},
   "outputs": [
    {
     "data": {
      "text/plain": [
       "torch.Size([512, 256, 4])"
      ]
     },
     "execution_count": 17,
     "metadata": {},
     "output_type": "execute_result"
    }
   ],
   "source": [
    "t = rearrange(t, 'n s (h d) -> (n h) s d', h=8)\n",
    "t.shape"
   ]
  },
  {
   "cell_type": "markdown",
   "id": "a4e0c7b1-2b50-4a69-ae70-8bc11c35b2af",
   "metadata": {},
   "source": [
    "After we have done the rearrangement, we do the matrix product of the q and k.T projection as before. Then we take the softmax across the rows to get the weight pixels and finally rearrange the input images into their original projection shape with \"rearrange(x, '(n h) s d -> n s (h d)', h=self.nheads)\" and do one final projection to give it a chance to learn some additional features. Finally, we reshape the image into its original raw form(n,c,h,w) and return the input with the addition of attention weights."
   ]
  },
  {
   "cell_type": "code",
   "execution_count": 18,
   "id": "74810423-8f9d-4c46-8ec4-71e0a19f5f81",
   "metadata": {},
   "outputs": [
    {
     "data": {
      "text/plain": [
       "torch.Size([64, 32, 16, 16])"
      ]
     },
     "execution_count": 18,
     "metadata": {},
     "output_type": "execute_result"
    }
   ],
   "source": [
    "sa = SelfAttentionMultiHead(32, 8)\n",
    "sx = sa(x)\n",
    "sx.shape"
   ]
  },
  {
   "cell_type": "code",
   "execution_count": 19,
   "id": "01c0e5b9-89f7-4b28-9188-6037bd10b630",
   "metadata": {},
   "outputs": [
    {
     "data": {
      "text/plain": [
       "(tensor(-0.0306, grad_fn=<MeanBackward0>),\n",
       " tensor(1.0076, grad_fn=<StdBackward0>))"
      ]
     },
     "execution_count": 19,
     "metadata": {},
     "output_type": "execute_result"
    }
   ],
   "source": [
    "sx.mean(),sx.std()"
   ]
  },
  {
   "cell_type": "code",
   "execution_count": 24,
   "id": "d77d875c-32d1-4f48-8505-f064a26c7217",
   "metadata": {},
   "outputs": [],
   "source": [
    "t = x.view(*x.shape[:2], -1).transpose(1, 2)\n",
    "t.shape\n",
    "nm = nn.MultiheadAttention(32, num_heads=8, batch_first=True)\n",
    "nmx,nmw = nm(t,t,t)\n",
    "nmx = nmx+t"
   ]
  },
  {
   "cell_type": "code",
   "execution_count": 25,
   "id": "a624dd9e-307b-4122-8d30-a23a236257d7",
   "metadata": {},
   "outputs": [
    {
     "data": {
      "text/plain": [
       "(tensor(-0.0019, grad_fn=<MeanBackward0>),\n",
       " tensor(1.0028, grad_fn=<StdBackward0>))"
      ]
     },
     "execution_count": 25,
     "metadata": {},
     "output_type": "execute_result"
    }
   ],
   "source": [
    "nmx.mean(),nmx.std()"
   ]
  },
  {
   "cell_type": "markdown",
   "id": "00584633-8f42-4399-8ecf-9a9a5334f264",
   "metadata": {
    "tags": []
   },
   "source": [
    "## Vision Transformers (ViT)"
   ]
  },
  {
   "cell_type": "markdown",
   "id": "ccfabe1b-9588-46f5-ad04-2954b4df3a52",
   "metadata": {},
   "source": [
    "Now that we have understood what attention is in Vision, implemented naive self-attention and multihead attention let's move onto the Vision transformer(ViT). ViT expands the success of transformer models from sequential data to images. We are going to dissect each component of the ViT model architecture for classification, implement it in code piece by piece. In the process of understanding and implementing ViT, we will touch upon few questions which can help us interpret the model. Questions like what do the attenion heads in ViT capture? Which attention heads are more important? What attention patterns have individual heads learned?"
   ]
  },
  {
   "cell_type": "markdown",
   "id": "d4839339-00f8-46ca-acd8-5dfefa13cd0f",
   "metadata": {},
   "source": [
    "ViT classifier runs in five key steps\n",
    "<ol>\n",
    "    <li>Decompose the input image into a sequence of patch tokens</li>\n",
    "    <li>Concatenate CLS</li>\n",
    "    <li>Add positional encodings</li>\n",
    "    <li>Multi-head self-attention</li>\n",
    "    <li>Use the CLS token for prediction</li>\n",
    "</ol>\n",
    "\n",
    "Below is the ViT architecture as drawn out in the original ViT paper"
   ]
  },
  {
   "cell_type": "markdown",
   "id": "621a11c5-f4e5-4076-976c-527339ec8326",
   "metadata": {},
   "source": [
    "<img src=\"Vit.PNG\" alt=\"Alternative text\"  width=\"700\" height=\"400\"/>"
   ]
  },
  {
   "cell_type": "markdown",
   "id": "053cd38f-9ba8-42e8-a7a6-9fb2714d1a81",
   "metadata": {
    "tags": []
   },
   "source": [
    "### Decompose the input image into a sequence of patch tokens"
   ]
  },
  {
   "cell_type": "markdown",
   "id": "1866304b-f175-4800-86d3-d145fc3e7632",
   "metadata": {},
   "source": [
    "Original Transformers was designed for a sequence task. Here, we transform the image into a sequence of flattened 2D patches.\n"
   ]
  },
  {
   "cell_type": "markdown",
   "id": "8db5b07b-fe10-4626-bb45-e6799220a965",
   "metadata": {},
   "source": [
    "<img src=\"Patching.png\" alt=\"Alternative text\"  width=\"700\" height=\"400\"/>"
   ]
  },
  {
   "cell_type": "markdown",
   "id": "6a2039ef-ba73-466c-b963-c0c7d1643557",
   "metadata": {},
   "source": [
    "As seen in the image above, we break the H,W,C image (where (H, W) is the resolution of the original image, C is the number of channels, (P, P) is the resolution of each image patch(16,16) in the above example) into N(=HW/P*P) patches. Each of the red box of each image patch represents the input patch embedding which is passed onto the ViT model as input.\n",
    "We just use a fully connected neurel net to get these embeddings for our implementation. The input sequence can also be formed from feature maps of a CNN which we are not doing in this implementation."
   ]
  },
  {
   "cell_type": "code",
   "execution_count": 27,
   "id": "46fd7ed4-b1ec-428e-8de3-16ee3c946525",
   "metadata": {},
   "outputs": [],
   "source": [
    "to_tensor = [Resize((144, 144)), ToTensor()]\n",
    "\n",
    "class Compose(object):\n",
    "    def __init__(self, transforms):\n",
    "        self.transforms = transforms\n",
    "\n",
    "    def __call__(self, image, target):\n",
    "        for t in self.transforms:\n",
    "            image = t(image)\n",
    "        return image, target\n",
    "\n",
    "def show_images(images, num_samples=40, cols=8):\n",
    "    \"\"\" Plots some samples from the dataset \"\"\"\n",
    "    plt.figure(figsize=(15,15))\n",
    "    idx = int(len(dataset) / num_samples)\n",
    "    print(images)\n",
    "    for i, img in enumerate(images):\n",
    "        if i % idx == 0:\n",
    "            plt.subplot(int(num_samples/cols) + 1, cols, int(i/idx) + 1)\n",
    "            plt.imshow(to_pil_image(img[0]))\n",
    "\n",
    "\n",
    "dataset = OxfordIIITPet(root=\".\", download=True, transforms=Compose(to_tensor))\n",
    "# show_images(dataset)"
   ]
  },
  {
   "cell_type": "markdown",
   "id": "74cd8922-da6e-4469-9971-3385d5555424",
   "metadata": {},
   "source": [
    "Let's breakdown one image into patches, flatten it and create its embedding by passing it onto a feed forward network"
   ]
  },
  {
   "cell_type": "code",
   "execution_count": 28,
   "id": "96aa83bb-5615-4ece-b8f2-9b6f453bddbd",
   "metadata": {},
   "outputs": [
    {
     "name": "stdout",
     "output_type": "stream",
     "text": [
      "Initial shape:  torch.Size([1, 3, 144, 144])\n",
      "Shape after einops dimensions reshape torch.Size([1, 324, 192])\n",
      "Shape of the final embedded patch torch.Size([1, 324, 128])\n"
     ]
    }
   ],
   "source": [
    "patch_size=8\n",
    "in_channels = 3\n",
    "emb_size = 128\n",
    "sample_datapoint = torch.unsqueeze(dataset[0][0], 0)\n",
    "print(\"Initial shape: \", sample_datapoint.shape)\n",
    "patch_reshaped = rearrange(sample_datapoint,'b c (h p1) (w p2) -> b (h w) (p1 p2 c)', p1=patch_size, p2=patch_size)\n",
    "print(\"Shape after einops dimensions reshape\" ,patch_reshaped.shape)\n",
    "patch_emb = nn.Linear(patch_size * patch_size * in_channels, emb_size)\n",
    "patch_emb = patch_emb(patch_reshaped)\n",
    "print(\"Shape of the final embedded patch\", patch_emb.shape)"
   ]
  },
  {
   "cell_type": "markdown",
   "id": "866a3700-bf8d-40eb-909d-007770feee1f",
   "metadata": {},
   "source": [
    "Let's create a class to get the Patch Embeddings"
   ]
  },
  {
   "cell_type": "code",
   "execution_count": 29,
   "id": "521f5df2-8ee1-4cf9-a6c5-2e8e00eafb44",
   "metadata": {},
   "outputs": [],
   "source": [
    "class PatchEmbedding(nn.Module):\n",
    "    def __init__(self, in_channels = 3, patch_size = 8, emb_size = 128):\n",
    "        self.patch_size = patch_size\n",
    "        super().__init__()\n",
    "        self.projection = nn.Sequential(\n",
    "            # break-down the image in s1 x s2 patches and flatten them\n",
    "            Rearrange('b c (h p1) (w p2) -> b (h w) (p1 p2 c)', p1=patch_size, p2=patch_size),\n",
    "            nn.Linear(patch_size * patch_size * in_channels, emb_size)\n",
    "        )\n",
    "\n",
    "    def forward(self, x: Tensor) -> Tensor:\n",
    "        x = self.projection(x)\n",
    "        return x"
   ]
  },
  {
   "cell_type": "code",
   "execution_count": 30,
   "id": "f067bbcf-d682-43cd-9eeb-0bd708a747da",
   "metadata": {},
   "outputs": [
    {
     "name": "stdout",
     "output_type": "stream",
     "text": [
      "Initial shape:  torch.Size([1, 3, 144, 144])\n",
      "Patches shape:  torch.Size([1, 324, 128])\n"
     ]
    }
   ],
   "source": [
    "sample_datapoint = torch.unsqueeze(dataset[0][0], 0)\n",
    "print(\"Initial shape: \", sample_datapoint.shape)\n",
    "embedding = PatchEmbedding()(sample_datapoint)\n",
    "print(\"Patches shape: \", embedding.shape)"
   ]
  },
  {
   "cell_type": "markdown",
   "id": "a9d6b836-c422-4d15-b24f-cac5f9ba5d25",
   "metadata": {
    "tags": []
   },
   "source": [
    "### Concatenate CLS"
   ]
  },
  {
   "cell_type": "markdown",
   "id": "62c38ba5-b391-47ef-8cc5-261c8d684763",
   "metadata": {},
   "source": [
    "Typically when you are doing a classification task, you want a all of the information you extracted into a single representation and use it for classification. When we use CNNs, we have a fully connected layer at the end of the network which acts as the classification head. As Transformer is a sequence to sequence model and as there is no decoder layer in ViT, then the length of input sequence (number of patches) equals the length of output sequence. Here we add a dummy input, call it class token and apply the classification layer on the corresponding output item. So the Cls token is a dummy input which is later filled with information collected from all of the patch input tokens. Initially it is randomly initialised and is a learnable parameter. It acts as a global feature extractor which represents the entire image and is then used for downstream tasks, which is classification in our case. CLS learns to accumulate class-related features used to generate the final class probability.\n",
    "\n",
    "One interesting thing is that CLS token attends to all the other tokens and all the other tokens attend to the CLS token as well. One can think the CLS token attending to every other token will help it learn about the image information captured by the patch tokens. Do Patch tokens attending to the CLS tokens help them get some relevant information about the image class, is a something which would be interesting to explore. \n",
    "We will go into the different types of attention ViT captures(patch-patch,patch-cls,cls-cls) in detail later. \n"
   ]
  },
  {
   "cell_type": "markdown",
   "id": "cdb801eb-3286-435d-b6e7-6a1477ffc175",
   "metadata": {},
   "source": [
    "<img src=\"Cls_token.png\" alt=\"Alternative text\"  width=\"700\" height=\"400\"/>"
   ]
  },
  {
   "cell_type": "markdown",
   "id": "15b83c54-1699-4727-ae2b-b0ac8af13b8f",
   "metadata": {},
   "source": [
    "As we can see the red circled CLS token is concatenated with all the other positional embeddings(expained in the next section). "
   ]
  },
  {
   "cell_type": "markdown",
   "id": "22583b22-1a8f-4dc2-814f-2b590bb11fe7",
   "metadata": {
    "tags": []
   },
   "source": [
    "### Positional Embeddings"
   ]
  },
  {
   "cell_type": "markdown",
   "id": "c6ebfe9f-c55c-4329-abbe-798255007baa",
   "metadata": {},
   "source": [
    "The zero-initialized positional encodings are added to the (1+p^2)xh matrix. They are trained to learn each patch’s positional information. Just like the CLS token, we learn these positional embeddings. "
   ]
  },
  {
   "cell_type": "markdown",
   "id": "84b015b7-23cb-4230-83da-c20255076a52",
   "metadata": {
    "tags": []
   },
   "source": [
    "### The Transformer Encoder with Multi-layer Multi-head self-attention"
   ]
  },
  {
   "cell_type": "markdown",
   "id": "7e56e849-9097-461b-81f0-d61ea72ab742",
   "metadata": {},
   "source": [
    "This step contains l stacked attention layers, each with n attention heads. Each head learns a (1+p^2) × (1+p^2) attention weight matrix A, reflecting the pair-wise attention between all 1+p^2 tokens. ( where p is the patch embedding size or patch_size)."
   ]
  },
  {
   "cell_type": "markdown",
   "id": "d55da5c0-cd84-4df6-b982-1616d5a7fbeb",
   "metadata": {},
   "source": [
    "The ViT transfomer encoder contains 4 building blocks. Let's go ahead and implement them."
   ]
  },
  {
   "cell_type": "markdown",
   "id": "3b9932b7-40b9-4282-a45d-0537718f1cc1",
   "metadata": {},
   "source": [
    "<img src=\"transformer_blocks.png\" alt=\"Alternative text\"  width=\"700\" height=\"400\"/>"
   ]
  },
  {
   "cell_type": "code",
   "execution_count": 31,
   "id": "f2dd2fcf-ea43-43e8-a64e-9954b5171c5b",
   "metadata": {},
   "outputs": [],
   "source": [
    "class Attention(nn.Module):\n",
    "    def __init__(self, dim, heads = 8, dim_head = 64, dropout = 0.):\n",
    "        super().__init__()\n",
    "        inner_dim = dim_head *  heads\n",
    "        project_out = not (heads == 1 and dim_head == dim)\n",
    "\n",
    "        self.heads = heads\n",
    "        self.scale = dim_head ** -0.5\n",
    "\n",
    "        self.norm = nn.LayerNorm(dim)\n",
    "\n",
    "        self.attend = nn.Softmax(dim = -1)\n",
    "        self.dropout = nn.Dropout(dropout)\n",
    "\n",
    "        self.to_qkv = nn.Linear(dim, inner_dim * 3, bias = False)\n",
    "\n",
    "        self.to_out = nn.Sequential(\n",
    "            nn.Linear(inner_dim, dim),\n",
    "            nn.Dropout(dropout)\n",
    "        ) if project_out else nn.Identity()\n",
    "\n",
    "    def forward(self, x):\n",
    "        x = self.norm(x)\n",
    "\n",
    "        qkv = self.to_qkv(x).chunk(3, dim = -1)\n",
    "        q, k, v = map(lambda t: rearrange(t, 'b n (h d) -> b h n d', h = self.heads), qkv)\n",
    "\n",
    "        dots = torch.matmul(q, k.transpose(-1, -2)) * self.scale\n",
    "\n",
    "        attn = self.attend(dots)\n",
    "        attn = self.dropout(attn)\n",
    "\n",
    "        out = torch.matmul(attn, v)\n",
    "        out = rearrange(out, 'b h n d -> b n (h d)')\n",
    "        return self.to_out(out)"
   ]
  },
  {
   "cell_type": "code",
   "execution_count": 32,
   "id": "e0c2c1b0-b3c0-4773-845d-585534e740d2",
   "metadata": {},
   "outputs": [
    {
     "data": {
      "text/plain": [
       "torch.Size([1, 5, 128])"
      ]
     },
     "execution_count": 32,
     "metadata": {},
     "output_type": "execute_result"
    }
   ],
   "source": [
    "Attention(dim=128, heads=4, dropout=0.)(torch.ones((1, 5, 128))).shape"
   ]
  },
  {
   "cell_type": "markdown",
   "id": "5abc0d56-c3a2-4377-a242-8e216f26ca59",
   "metadata": {},
   "source": [
    "We use Layer Normalisation below. If we think about why layer normalisation is used, and not the more common batch norm used in Vision.It is a common practive that layer norm is used in NLP tasks and batch norm is used in Vision tasks. As transformers were intially built for sequence nlp inputs, layer norm was used. But even in ViT, where we use transformers in vision, layer norm is still used. The reason for this might be how the normalisation stats - mean and variance, are calculated in layer norm. In batchnorm, the mean and variance statistics used for normalization are calculated across all elements of all instances in a batch(elements mean pixels and instance means an image). For layernorm, the statistics are calculated across the feature dimension, for each element and instance independently.  LayerNorm computes the mean and variance of all channels at each spatial location (each pixel) independently across all images in the batch. The normalization is then performed independently for each spatial location (each pixel) using the calculated mean and variance across all channels at that location. This aligns with how transformers work. In transformers, we are not concerned with the other instances in the batch when we are doing attention, but we what is more important is how rich the feature relationship information we have captured is. So normalising across the all features(or channels) of an image is very similar to what we are doing with attention. "
   ]
  },
  {
   "cell_type": "code",
   "execution_count": 34,
   "id": "60dae322-7489-4cc9-88ab-0104d0decf01",
   "metadata": {},
   "outputs": [
    {
     "data": {
      "text/plain": [
       "torch.Size([1, 5, 128])"
      ]
     },
     "execution_count": 34,
     "metadata": {},
     "output_type": "execute_result"
    }
   ],
   "source": [
    "class PreNorm(nn.Module):\n",
    "    def __init__(self, dim, fn):\n",
    "        super().__init__()\n",
    "        self.norm = nn.LayerNorm(dim)\n",
    "        self.fn = fn\n",
    "    def forward(self, x, **kwargs):\n",
    "        return self.fn(self.norm(x), **kwargs)\n",
    "norm = PreNorm(128, Attention(dim=128, heads=4, dropout=0.))\n",
    "norm(torch.ones((1, 5, 128))).shape"
   ]
  },
  {
   "cell_type": "code",
   "execution_count": 35,
   "id": "b2ed0324-cc3b-4116-a3d2-616f90bd3cfe",
   "metadata": {},
   "outputs": [
    {
     "data": {
      "text/plain": [
       "torch.Size([1, 5, 128])"
      ]
     },
     "execution_count": 35,
     "metadata": {},
     "output_type": "execute_result"
    }
   ],
   "source": [
    "class FeedForward(nn.Sequential):\n",
    "    def __init__(self, dim, hidden_dim, dropout = 0.):\n",
    "        super().__init__(\n",
    "            nn.Linear(dim, hidden_dim),\n",
    "            nn.GELU(),\n",
    "            nn.Dropout(dropout),\n",
    "            nn.Linear(hidden_dim, dim),\n",
    "            nn.Dropout(dropout)\n",
    "        )\n",
    "ff = FeedForward(dim=128, hidden_dim=256)\n",
    "ff(torch.ones((1, 5, 128))).shape"
   ]
  },
  {
   "cell_type": "code",
   "execution_count": 37,
   "id": "3f267dfb-1e36-4022-9e43-dddb70ee9900",
   "metadata": {},
   "outputs": [
    {
     "data": {
      "text/plain": [
       "torch.Size([1, 5, 128])"
      ]
     },
     "execution_count": 37,
     "metadata": {},
     "output_type": "execute_result"
    }
   ],
   "source": [
    "class ResidualAdd(nn.Module):\n",
    "    def __init__(self, fn):\n",
    "        super().__init__()\n",
    "        self.fn = fn\n",
    "\n",
    "    def forward(self, x, **kwargs):\n",
    "        res = x\n",
    "        x = self.fn(x, **kwargs)\n",
    "        x += res\n",
    "        return x\n",
    "residual_att = ResidualAdd(Attention(dim=128, heads=4, dropout=0.))\n",
    "residual_att(torch.ones((1, 5, 128))).shape"
   ]
  },
  {
   "cell_type": "markdown",
   "id": "f125c809-5611-42ec-8cdb-e8caec5aa08e",
   "metadata": {
    "tags": []
   },
   "source": [
    "### Use the CLS token for prediction"
   ]
  },
  {
   "cell_type": "markdown",
   "id": "63bd3ae5-8dc1-419b-bad4-84cd464a418d",
   "metadata": {},
   "source": [
    "This step decouples the CLS embedding from the patch tokens, and transforms it into class logits through fully-connected layers."
   ]
  },
  {
   "cell_type": "markdown",
   "id": "fa3c5b02-71e2-4076-827e-9a44a0016f77",
   "metadata": {
    "tags": []
   },
   "source": [
    "### Final ViT class"
   ]
  },
  {
   "cell_type": "markdown",
   "id": "0c57c624-d0ac-4adb-8eab-bee8ec4f7938",
   "metadata": {},
   "source": [
    "Let's go ahead and put all of the pieces we created together"
   ]
  },
  {
   "cell_type": "code",
   "execution_count": 38,
   "id": "241544cf-52cc-4d4c-8c17-ce4f7a9d73e1",
   "metadata": {},
   "outputs": [
    {
     "data": {
      "text/plain": [
       "tensor([[-1.0458,  0.4171, -0.9099, -0.1380, -0.4593, -0.0648, -0.4884, -0.0094,\n",
       "          0.1941,  0.1272,  0.3649,  0.2897,  1.0110, -0.0136,  0.8620, -0.2971,\n",
       "         -0.2390, -0.0801, -0.5791, -0.2363, -0.5813, -0.1375,  0.2628,  1.3497,\n",
       "         -0.1218, -0.2292, -0.7679,  0.4300, -0.7301, -0.7377, -1.3888,  0.2043,\n",
       "         -0.5364,  0.2651,  0.2471, -0.2534,  0.1637]],\n",
       "       grad_fn=<AddmmBackward0>)"
      ]
     },
     "execution_count": 38,
     "metadata": {},
     "output_type": "execute_result"
    }
   ],
   "source": [
    "from einops import repeat\n",
    "\n",
    "class ViT(nn.Module):\n",
    "    def __init__(self, ch=3, img_size=144, patch_size=4, emb_dim=32,\n",
    "                n_layers=6, out_dim=37, dropout=0.1, heads=2):\n",
    "        super(ViT, self).__init__()\n",
    "\n",
    "        # Attributes\n",
    "        self.channels = ch\n",
    "        self.height = img_size\n",
    "        self.width = img_size\n",
    "        self.patch_size = patch_size\n",
    "        self.n_layers = n_layers\n",
    "\n",
    "        # Patching\n",
    "        self.patch_embedding = PatchEmbedding(in_channels=ch,\n",
    "                                              patch_size=patch_size,\n",
    "                                              emb_size=emb_dim)\n",
    "        # Learnable params\n",
    "        num_patches = (img_size // patch_size) ** 2\n",
    "        self.pos_embedding = nn.Parameter(\n",
    "            torch.randn(1, num_patches + 1, emb_dim))\n",
    "        self.cls_token = nn.Parameter(torch.rand(1, 1, emb_dim))\n",
    "\n",
    "        # Transformer Encoder\n",
    "        self.layers = nn.ModuleList([])\n",
    "        for _ in range(n_layers):\n",
    "            transformer_block = nn.Sequential(\n",
    "                ResidualAdd(PreNorm(emb_dim, Attention(emb_dim, heads = heads, dropout = dropout))),\n",
    "                ResidualAdd(PreNorm(emb_dim, FeedForward(emb_dim, emb_dim, dropout = dropout))))\n",
    "            self.layers.append(transformer_block)\n",
    "\n",
    "        # Classification head\n",
    "        self.head = nn.Sequential(nn.LayerNorm(emb_dim), nn.Linear(emb_dim, out_dim))\n",
    "\n",
    "\n",
    "    def forward(self, img):\n",
    "        # Get patch embedding vectors\n",
    "        x = self.patch_embedding(img)\n",
    "        b, n, _ = x.shape\n",
    "\n",
    "        # Add cls token to inputs\n",
    "        cls_tokens = repeat(self.cls_token, '1 1 d -> b 1 d', b = b)\n",
    "        x = torch.cat([cls_tokens, x], dim=1)\n",
    "        x += self.pos_embedding[:, :(n + 1)]\n",
    "\n",
    "        # Transformer layers\n",
    "        for i in range(self.n_layers):\n",
    "            x = self.layers[i](x)\n",
    "\n",
    "        # Output based on classification token\n",
    "        return self.head(x[:, 0, :])\n",
    "\n",
    "\n",
    "model = ViT()\n",
    "model(torch.ones((1, 3, 144, 144)))\n"
   ]
  },
  {
   "cell_type": "markdown",
   "id": "633ee8b9-7c41-4818-b022-b443e9493408",
   "metadata": {},
   "source": [
    "### Visualising the Attention Matrix"
   ]
  },
  {
   "cell_type": "markdown",
   "id": "9cf3109f-12c1-4579-92d5-04bb960fbf0b",
   "metadata": {},
   "source": [
    "<img src=\"attn_matrix.PNG\" alt=\"Alternative text\"  width=\"700\" height=\"300\"/>\n"
   ]
  },
  {
   "cell_type": "markdown",
   "id": "1e033147-836a-4139-bdf0-b9cae01b9a00",
   "metadata": {},
   "source": [
    "_Source:How Does Attention Work in Vision Transformers? A Visual Analytics Attempt_"
   ]
  },
  {
   "cell_type": "markdown",
   "id": "7d43860e-56ee-4e86-8199-b3770114792a",
   "metadata": {},
   "source": [
    "The attention matrix of a head can be divided into four regions based on the source and target tokens: CLS→CLS, CLS→patches, patches→CLS, and patches→patches. All of these 4 regions represent different attention relationship and can be analysed seperately and together to see how they contribute to the results. "
   ]
  },
  {
   "cell_type": "markdown",
   "id": "e4f4f86d-e3ac-458d-8b2e-0dc10874de2a",
   "metadata": {},
   "source": [
    "## Conclusion"
   ]
  },
  {
   "cell_type": "markdown",
   "id": "d7dc2790-bcf5-4d9f-ad32-59833f4217b9",
   "metadata": {},
   "source": [
    "We started off by understanding the fundamentals of attention, went on to implement our own attention blocks and the ViT arechitecture. We tried to draw out each step of the process, play with the shapes of various intermediate outputs, build a basic intuition on what the attention matrices are doing and implement the entire code from scratch. As good as the results of attention in vision have been, their data hungry nature and lack of inductive bias has kept it from replacing CNNs all over. For cases where there is not enough training data CNN still might be the better option. Nonetheless, attention in vision has had a huge success and is generating state of the art results all over. Understanding how and why it works as good as it has, makes us better informed about its possibilities and limitations. With this understanding we can start using it with \"attention\" to its process and deduce the quality of the results better.    "
   ]
  },
  {
   "cell_type": "markdown",
   "id": "5775f29e-8e9b-4703-bd5b-6208bb112ce1",
   "metadata": {},
   "source": [
    "#### Acknowledgements"
   ]
  },
  {
   "cell_type": "markdown",
   "id": "e252170c-5260-4e69-80c3-3401ae1ecfe0",
   "metadata": {},
   "source": [
    "- [AN IMAGE IS WORTH 16X16 WORDS:TRANSFORMERS FOR IMAGE RECOGNITION AT SCALE](https://arxiv.org/pdf/2010.11929.pdf)\n",
    "- [How Does Attention Work in Vision Transformers? A Visual Analytics Attempt](https://arxiv.org/pdf/2303.13731.pdf)\n",
    "- [Lucidrains implementation Github ](https://github.com/lucidrains/vit-pytorch/blob/main/vit_pytorch/vit.py)\n",
    "- [Fast AI](https://github.com/fastai/course22p2/blob/master/nbs/27_attention.ipynb)\n"
   ]
  }
 ],
 "metadata": {
  "kernelspec": {
   "display_name": "Python 3 (ipykernel)",
   "language": "python",
   "name": "python3"
  },
  "language_info": {
   "codemirror_mode": {
    "name": "ipython",
    "version": 3
   },
   "file_extension": ".py",
   "mimetype": "text/x-python",
   "name": "python",
   "nbconvert_exporter": "python",
   "pygments_lexer": "ipython3",
   "version": "3.11.5"
  }
 },
 "nbformat": 4,
 "nbformat_minor": 5
}
